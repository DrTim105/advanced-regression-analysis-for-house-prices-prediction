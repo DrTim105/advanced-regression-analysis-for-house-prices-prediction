{
 "cells": [
  {
   "cell_type": "markdown",
   "id": "a9b9cc40",
   "metadata": {
    "papermill": {
     "duration": 0.011569,
     "end_time": "2023-03-20T13:13:36.275007",
     "exception": false,
     "start_time": "2023-03-20T13:13:36.263438",
     "status": "completed"
    },
    "tags": []
   },
   "source": [
    "\n",
    "# Step 1 - Preliminaries #\n",
    "## Imports and Configuration ##\n"
   ]
  },
  {
   "cell_type": "code",
   "execution_count": 1,
   "id": "7ee33f66",
   "metadata": {
    "_kg_hide-input": true,
    "execution": {
     "iopub.execute_input": "2023-03-20T13:13:36.297272Z",
     "iopub.status.busy": "2023-03-20T13:13:36.296693Z",
     "iopub.status.idle": "2023-03-20T13:13:38.733796Z",
     "shell.execute_reply": "2023-03-20T13:13:38.732138Z"
    },
    "papermill": {
     "duration": 2.452599,
     "end_time": "2023-03-20T13:13:38.737537",
     "exception": false,
     "start_time": "2023-03-20T13:13:36.284938",
     "status": "completed"
    },
    "tags": []
   },
   "outputs": [],
   "source": [
    "\n",
    "import os\n",
    "import warnings\n",
    "from pathlib import Path\n",
    "\n",
    "import matplotlib.pyplot as plt\n",
    "import numpy as np\n",
    "import pandas as pd\n",
    "import seaborn as sns\n",
    "from IPython.display import display\n",
    "from pandas.api.types import CategoricalDtype\n",
    "\n",
    "from category_encoders import MEstimateEncoder\n",
    "from category_encoders import CatBoostEncoder\n",
    "\n",
    "from sklearn.cluster import KMeans\n",
    "from sklearn.decomposition import PCA\n",
    "from sklearn.feature_selection import mutual_info_regression\n",
    "from sklearn.model_selection import KFold, cross_val_score\n",
    "from xgboost import XGBRegressor\n",
    "\n",
    "\n",
    "# Set Matplotlib defaults\n",
    "plt.style.use(\"seaborn-whitegrid\")\n",
    "plt.rc(\"figure\", autolayout=True)\n",
    "plt.rc(\n",
    "    \"axes\",\n",
    "    labelweight=\"bold\",\n",
    "    labelsize=\"large\",\n",
    "    titleweight=\"bold\",\n",
    "    titlesize=14,\n",
    "    titlepad=10,\n",
    ")\n",
    "\n",
    "# Mute warnings\n",
    "warnings.filterwarnings('ignore')\n"
   ]
  },
  {
   "cell_type": "markdown",
   "id": "65d29e1c",
   "metadata": {
    "papermill": {
     "duration": 0.009307,
     "end_time": "2023-03-20T13:13:38.757145",
     "exception": false,
     "start_time": "2023-03-20T13:13:38.747838",
     "status": "completed"
    },
    "tags": []
   },
   "source": [
    "## Data Preprocessing ##\n",
    "\n",
    "- **Load** the data from CSV files\n",
    "- **Clean** the data to fix any errors or inconsistencies\n",
    "- **Encode** the statistical data type (numeric, categorical)\n",
    "- **Impute** any missing values\n"
   ]
  },
  {
   "cell_type": "code",
   "execution_count": 2,
   "id": "6f3b375c",
   "metadata": {
    "execution": {
     "iopub.execute_input": "2023-03-20T13:13:38.780964Z",
     "iopub.status.busy": "2023-03-20T13:13:38.780558Z",
     "iopub.status.idle": "2023-03-20T13:13:38.788382Z",
     "shell.execute_reply": "2023-03-20T13:13:38.787011Z"
    },
    "papermill": {
     "duration": 0.023453,
     "end_time": "2023-03-20T13:13:38.791041",
     "exception": false,
     "start_time": "2023-03-20T13:13:38.767588",
     "status": "completed"
    },
    "tags": []
   },
   "outputs": [],
   "source": [
    "def load_data():\n",
    "    # Read data\n",
    "    data_dir = Path(\"../input/house-prices-advanced-regression-techniques/\")\n",
    "    df_train = pd.read_csv(data_dir / \"train.csv\", index_col=\"Id\")\n",
    "    df_test = pd.read_csv(data_dir / \"test.csv\", index_col=\"Id\")\n",
    "    # Merge the splits so we can process them together\n",
    "    df = pd.concat([df_train, df_test])\n",
    "    # Preprocessing\n",
    "    df = clean(df)\n",
    "    df = encode(df)\n",
    "    df = impute(df)\n",
    "    # Reform splits\n",
    "    df_train = df.loc[df_train.index, :]\n",
    "    df_test = df.loc[df_test.index, :\n",
    "]\n",
    "    return df_train, df_test"
   ]
  },
  {
   "cell_type": "markdown",
   "id": "a3861d30",
   "metadata": {
    "papermill": {
     "duration": 0.009564,
     "end_time": "2023-03-20T13:13:38.810305",
     "exception": false,
     "start_time": "2023-03-20T13:13:38.800741",
     "status": "completed"
    },
    "tags": []
   },
   "source": [
    "### Clean Data ###\n",
    "\n",
    "Some of the categorical features in this dataset have what are apparently typos in their categories:"
   ]
  },
  {
   "cell_type": "code",
   "execution_count": 3,
   "id": "5e7c98a9",
   "metadata": {
    "execution": {
     "iopub.execute_input": "2023-03-20T13:13:38.831694Z",
     "iopub.status.busy": "2023-03-20T13:13:38.831283Z",
     "iopub.status.idle": "2023-03-20T13:13:38.900047Z",
     "shell.execute_reply": "2023-03-20T13:13:38.898649Z"
    },
    "papermill": {
     "duration": 0.082828,
     "end_time": "2023-03-20T13:13:38.902735",
     "exception": false,
     "start_time": "2023-03-20T13:13:38.819907",
     "status": "completed"
    },
    "tags": []
   },
   "outputs": [
    {
     "data": {
      "text/plain": [
       "array(['VinylSd', 'MetalSd', 'Wd Shng', 'HdBoard', 'Plywood', 'Wd Sdng',\n",
       "       'CmentBd', 'BrkFace', 'Stucco', 'AsbShng', 'Brk Cmn', 'ImStucc',\n",
       "       'AsphShn', 'Stone', 'Other', 'CBlock'], dtype=object)"
      ]
     },
     "execution_count": 3,
     "metadata": {},
     "output_type": "execute_result"
    }
   ],
   "source": [
    "data_dir = Path(\"../input/house-prices-advanced-regression-techniques/\")\n",
    "df = pd.read_csv(data_dir / \"train.csv\", index_col=\"Id\")\n",
    "\n",
    "df.Exterior2nd.unique()"
   ]
  },
  {
   "cell_type": "markdown",
   "id": "fd7457b3",
   "metadata": {
    "papermill": {
     "duration": 0.009492,
     "end_time": "2023-03-20T13:13:38.922150",
     "exception": false,
     "start_time": "2023-03-20T13:13:38.912658",
     "status": "completed"
    },
    "tags": []
   },
   "source": [
    "Evaluate`data_description.txt` for more instances for cleaning. "
   ]
  },
  {
   "cell_type": "code",
   "execution_count": 4,
   "id": "85ebc769",
   "metadata": {
    "execution": {
     "iopub.execute_input": "2023-03-20T13:13:38.944848Z",
     "iopub.status.busy": "2023-03-20T13:13:38.944379Z",
     "iopub.status.idle": "2023-03-20T13:13:38.952140Z",
     "shell.execute_reply": "2023-03-20T13:13:38.950597Z"
    },
    "papermill": {
     "duration": 0.022756,
     "end_time": "2023-03-20T13:13:38.954851",
     "exception": false,
     "start_time": "2023-03-20T13:13:38.932095",
     "status": "completed"
    },
    "tags": []
   },
   "outputs": [],
   "source": [
    "def clean(df):\n",
    "    df[\"Exterior2nd\"] = df[\"Exterior2nd\"].replace({\"Brk Cmn\": \"BrkComm\"})\n",
    "    # Some values of GarageYrBlt are corrupt, so we'll replace them\n",
    "    # with the year the house was built\n",
    "    df[\"GarageYrBlt\"] = df[\"GarageYrBlt\"].where(df.GarageYrBlt <= 2010, df.YearBuilt)\n",
    "    # Names beginning with numbers are awkward to work with\n",
    "    df.rename(columns={\n",
    "        \"1stFlrSF\": \"FirstFlrSF\",\n",
    "        \"2ndFlrSF\": \"SecondFlrSF\",\n",
    "        \"3SsnPorch\": \"Threeseasonporch\",\n",
    "    }, inplace=True,\n",
    "    )\n",
    "    return df\n"
   ]
  },
  {
   "cell_type": "markdown",
   "id": "050de3df",
   "metadata": {
    "papermill": {
     "duration": 0.009489,
     "end_time": "2023-03-20T13:13:38.974695",
     "exception": false,
     "start_time": "2023-03-20T13:13:38.965206",
     "status": "completed"
    },
    "tags": []
   },
   "source": [
    "### Encode the Statistical Data Type ###"
   ]
  },
  {
   "cell_type": "code",
   "execution_count": 5,
   "id": "c559d3b4",
   "metadata": {
    "_kg_hide-input": true,
    "execution": {
     "iopub.execute_input": "2023-03-20T13:13:38.996817Z",
     "iopub.status.busy": "2023-03-20T13:13:38.996356Z",
     "iopub.status.idle": "2023-03-20T13:13:39.012766Z",
     "shell.execute_reply": "2023-03-20T13:13:39.011368Z"
    },
    "papermill": {
     "duration": 0.03096,
     "end_time": "2023-03-20T13:13:39.015807",
     "exception": false,
     "start_time": "2023-03-20T13:13:38.984847",
     "status": "completed"
    },
    "tags": []
   },
   "outputs": [],
   "source": [
    "\n",
    "# The numeric features are already encoded correctly (`float` for\n",
    "# continuous, `int` for discrete), but the categoricals we'll need to\n",
    "# do ourselves. Note in particular, that the `MSSubClass` feature is\n",
    "# read as an `int` type, but is actually a (nominative) categorical.\n",
    "\n",
    "# The nominative (unordered) categorical features\n",
    "features_nom = [\"MSSubClass\", \"MSZoning\", \"Street\", \"Alley\", \"LandContour\", \"LotConfig\", \"Neighborhood\", \"Condition1\", \"Condition2\", \"BldgType\", \n",
    "                \"HouseStyle\", \"RoofStyle\", \"RoofMatl\", \"Exterior1st\", \"Exterior2nd\", \"MasVnrType\", \"Foundation\", \"Heating\", \"CentralAir\", \"GarageType\", \n",
    "                \"MiscFeature\", \"SaleType\", \"SaleCondition\"]\n",
    "\n",
    "\n",
    "# The ordinal (ordered) categorical features \n",
    "\n",
    "# Pandas calls the categories \"levels\"\n",
    "five_levels = [\"Po\", \"Fa\", \"TA\", \"Gd\", \"Ex\"]\n",
    "ten_levels = list(range(10))\n",
    "\n",
    "ordered_levels = {\n",
    "    \"OverallQual\": ten_levels,\n",
    "    \"OverallCond\": ten_levels,\n",
    "    \"ExterQual\": five_levels,\n",
    "    \"ExterCond\": five_levels,\n",
    "    \"BsmtQual\": five_levels,\n",
    "    \"BsmtCond\": five_levels,\n",
    "    \"HeatingQC\": five_levels,\n",
    "    \"KitchenQual\": five_levels,\n",
    "    \"FireplaceQu\": five_levels,\n",
    "    \"GarageQual\": five_levels,\n",
    "    \"GarageCond\": five_levels,\n",
    "    \"PoolQC\": five_levels,\n",
    "    \"LotShape\": [\"Reg\", \"IR1\", \"IR2\", \"IR3\"],\n",
    "    \"LandSlope\": [\"Sev\", \"Mod\", \"Gtl\"],\n",
    "    \"BsmtExposure\": [\"No\", \"Mn\", \"Av\", \"Gd\"],\n",
    "    \"BsmtFinType1\": [\"Unf\", \"LwQ\", \"Rec\", \"BLQ\", \"ALQ\", \"GLQ\"],\n",
    "    \"BsmtFinType2\": [\"Unf\", \"LwQ\", \"Rec\", \"BLQ\", \"ALQ\", \"GLQ\"],\n",
    "    \"Functional\": [\"Sal\", \"Sev\", \"Maj1\", \"Maj2\", \"Mod\", \"Min2\", \"Min1\", \"Typ\"],\n",
    "    \"GarageFinish\": [\"Unf\", \"RFn\", \"Fin\"],\n",
    "    \"PavedDrive\": [\"N\", \"P\", \"Y\"],\n",
    "    \"Utilities\": [\"NoSeWa\", \"NoSewr\", \"AllPub\"],\n",
    "    \"CentralAir\": [\"N\", \"Y\"],\n",
    "    \"Electrical\": [\"Mix\", \"FuseP\", \"FuseF\", \"FuseA\", \"SBrkr\"],\n",
    "    \"Fence\": [\"MnWw\", \"GdWo\", \"MnPrv\", \"GdPrv\"],\n",
    "}\n",
    "\n",
    "# Add a None level for missing values\n",
    "ordered_levels = {key: [\"None\"] + value for key, value in\n",
    "                  ordered_levels.items()}\n",
    "\n",
    "\n",
    "def encode(df):\n",
    "    # Nominal categories\n",
    "    for name in features_nom:\n",
    "        df[name] = df[name].astype(\"category\")\n",
    "        # Add a None category for missing values\n",
    "        if \"None\" not in df[name].cat.categories:\n",
    "            df[name].cat.add_categories(\"None\", inplace=True)\n",
    "    # Ordinal categories\n",
    "    for name, levels in ordered_levels.items():\n",
    "        df[name] = df[name].astype(CategoricalDtype(levels,\n",
    "                                                    ordered=True))\n",
    "    return df\n"
   ]
  },
  {
   "cell_type": "markdown",
   "id": "b12eb86e",
   "metadata": {
    "papermill": {
     "duration": 0.009759,
     "end_time": "2023-03-20T13:13:39.035728",
     "exception": false,
     "start_time": "2023-03-20T13:13:39.025969",
     "status": "completed"
    },
    "tags": []
   },
   "source": [
    "### Handle Missing Values ###\n",
    "\n",
    "Impute `0` for missing numeric values and `\"None\"` for missing categorical values. Create \"missing value\" indicators: `1` whenever a value was imputed and `0` otherwise."
   ]
  },
  {
   "cell_type": "code",
   "execution_count": 6,
   "id": "e36df540",
   "metadata": {
    "execution": {
     "iopub.execute_input": "2023-03-20T13:13:39.058018Z",
     "iopub.status.busy": "2023-03-20T13:13:39.057610Z",
     "iopub.status.idle": "2023-03-20T13:13:39.064907Z",
     "shell.execute_reply": "2023-03-20T13:13:39.063406Z"
    },
    "papermill": {
     "duration": 0.022075,
     "end_time": "2023-03-20T13:13:39.067734",
     "exception": false,
     "start_time": "2023-03-20T13:13:39.045659",
     "status": "completed"
    },
    "tags": []
   },
   "outputs": [],
   "source": [
    "def impute(df):\n",
    "    for name in df.select_dtypes(\"number\"):\n",
    "        df[name + \"_imputed\"] = df[name].isna().astype(int)\n",
    "        df[name] = df[name].fillna(0)\n",
    "    for name in df.select_dtypes(\"category\"):\n",
    "        df[name + \"_imputed\"] = df[name].isna().astype(int)\n",
    "        df[name] = df[name].fillna(\"None\")\n",
    "    return df"
   ]
  },
  {
   "cell_type": "markdown",
   "id": "d858cfc1",
   "metadata": {
    "papermill": {
     "duration": 0.009532,
     "end_time": "2023-03-20T13:13:39.087382",
     "exception": false,
     "start_time": "2023-03-20T13:13:39.077850",
     "status": "completed"
    },
    "tags": []
   },
   "source": [
    "## Load Data ##\n"
   ]
  },
  {
   "cell_type": "code",
   "execution_count": 7,
   "id": "5c8a093a",
   "metadata": {
    "execution": {
     "iopub.execute_input": "2023-03-20T13:13:39.109828Z",
     "iopub.status.busy": "2023-03-20T13:13:39.109415Z",
     "iopub.status.idle": "2023-03-20T13:13:39.365336Z",
     "shell.execute_reply": "2023-03-20T13:13:39.363789Z"
    },
    "papermill": {
     "duration": 0.270642,
     "end_time": "2023-03-20T13:13:39.368301",
     "exception": false,
     "start_time": "2023-03-20T13:13:39.097659",
     "status": "completed"
    },
    "tags": []
   },
   "outputs": [],
   "source": [
    "df_train, df_test = load_data()"
   ]
  },
  {
   "cell_type": "code",
   "execution_count": 8,
   "id": "ceb76e8b",
   "metadata": {
    "execution": {
     "iopub.execute_input": "2023-03-20T13:13:39.390566Z",
     "iopub.status.busy": "2023-03-20T13:13:39.390086Z",
     "iopub.status.idle": "2023-03-20T13:13:39.511289Z",
     "shell.execute_reply": "2023-03-20T13:13:39.509687Z"
    },
    "papermill": {
     "duration": 0.136256,
     "end_time": "2023-03-20T13:13:39.514385",
     "exception": false,
     "start_time": "2023-03-20T13:13:39.378129",
     "status": "completed"
    },
    "tags": []
   },
   "outputs": [
    {
     "data": {
      "text/html": [
       "<div>\n",
       "<style scoped>\n",
       "    .dataframe tbody tr th:only-of-type {\n",
       "        vertical-align: middle;\n",
       "    }\n",
       "\n",
       "    .dataframe tbody tr th {\n",
       "        vertical-align: top;\n",
       "    }\n",
       "\n",
       "    .dataframe thead th {\n",
       "        text-align: right;\n",
       "    }\n",
       "</style>\n",
       "<table border=\"1\" class=\"dataframe\">\n",
       "  <thead>\n",
       "    <tr style=\"text-align: right;\">\n",
       "      <th></th>\n",
       "      <th>MSSubClass</th>\n",
       "      <th>MSZoning</th>\n",
       "      <th>LotFrontage</th>\n",
       "      <th>LotArea</th>\n",
       "      <th>Street</th>\n",
       "      <th>Alley</th>\n",
       "      <th>LotShape</th>\n",
       "      <th>LandContour</th>\n",
       "      <th>Utilities</th>\n",
       "      <th>LotConfig</th>\n",
       "      <th>...</th>\n",
       "      <th>GarageType_imputed</th>\n",
       "      <th>GarageFinish_imputed</th>\n",
       "      <th>GarageQual_imputed</th>\n",
       "      <th>GarageCond_imputed</th>\n",
       "      <th>PavedDrive_imputed</th>\n",
       "      <th>PoolQC_imputed</th>\n",
       "      <th>Fence_imputed</th>\n",
       "      <th>MiscFeature_imputed</th>\n",
       "      <th>SaleType_imputed</th>\n",
       "      <th>SaleCondition_imputed</th>\n",
       "    </tr>\n",
       "    <tr>\n",
       "      <th>Id</th>\n",
       "      <th></th>\n",
       "      <th></th>\n",
       "      <th></th>\n",
       "      <th></th>\n",
       "      <th></th>\n",
       "      <th></th>\n",
       "      <th></th>\n",
       "      <th></th>\n",
       "      <th></th>\n",
       "      <th></th>\n",
       "      <th></th>\n",
       "      <th></th>\n",
       "      <th></th>\n",
       "      <th></th>\n",
       "      <th></th>\n",
       "      <th></th>\n",
       "      <th></th>\n",
       "      <th></th>\n",
       "      <th></th>\n",
       "      <th></th>\n",
       "      <th></th>\n",
       "    </tr>\n",
       "  </thead>\n",
       "  <tbody>\n",
       "    <tr>\n",
       "      <th>1</th>\n",
       "      <td>60</td>\n",
       "      <td>RL</td>\n",
       "      <td>65.0</td>\n",
       "      <td>8450</td>\n",
       "      <td>Pave</td>\n",
       "      <td>None</td>\n",
       "      <td>Reg</td>\n",
       "      <td>Lvl</td>\n",
       "      <td>AllPub</td>\n",
       "      <td>Inside</td>\n",
       "      <td>...</td>\n",
       "      <td>0</td>\n",
       "      <td>0</td>\n",
       "      <td>0</td>\n",
       "      <td>0</td>\n",
       "      <td>0</td>\n",
       "      <td>1</td>\n",
       "      <td>1</td>\n",
       "      <td>1</td>\n",
       "      <td>0</td>\n",
       "      <td>0</td>\n",
       "    </tr>\n",
       "    <tr>\n",
       "      <th>2</th>\n",
       "      <td>20</td>\n",
       "      <td>RL</td>\n",
       "      <td>80.0</td>\n",
       "      <td>9600</td>\n",
       "      <td>Pave</td>\n",
       "      <td>None</td>\n",
       "      <td>Reg</td>\n",
       "      <td>Lvl</td>\n",
       "      <td>AllPub</td>\n",
       "      <td>FR2</td>\n",
       "      <td>...</td>\n",
       "      <td>0</td>\n",
       "      <td>0</td>\n",
       "      <td>0</td>\n",
       "      <td>0</td>\n",
       "      <td>0</td>\n",
       "      <td>1</td>\n",
       "      <td>1</td>\n",
       "      <td>1</td>\n",
       "      <td>0</td>\n",
       "      <td>0</td>\n",
       "    </tr>\n",
       "    <tr>\n",
       "      <th>3</th>\n",
       "      <td>60</td>\n",
       "      <td>RL</td>\n",
       "      <td>68.0</td>\n",
       "      <td>11250</td>\n",
       "      <td>Pave</td>\n",
       "      <td>None</td>\n",
       "      <td>IR1</td>\n",
       "      <td>Lvl</td>\n",
       "      <td>AllPub</td>\n",
       "      <td>Inside</td>\n",
       "      <td>...</td>\n",
       "      <td>0</td>\n",
       "      <td>0</td>\n",
       "      <td>0</td>\n",
       "      <td>0</td>\n",
       "      <td>0</td>\n",
       "      <td>1</td>\n",
       "      <td>1</td>\n",
       "      <td>1</td>\n",
       "      <td>0</td>\n",
       "      <td>0</td>\n",
       "    </tr>\n",
       "    <tr>\n",
       "      <th>4</th>\n",
       "      <td>70</td>\n",
       "      <td>RL</td>\n",
       "      <td>60.0</td>\n",
       "      <td>9550</td>\n",
       "      <td>Pave</td>\n",
       "      <td>None</td>\n",
       "      <td>IR1</td>\n",
       "      <td>Lvl</td>\n",
       "      <td>AllPub</td>\n",
       "      <td>Corner</td>\n",
       "      <td>...</td>\n",
       "      <td>0</td>\n",
       "      <td>0</td>\n",
       "      <td>0</td>\n",
       "      <td>0</td>\n",
       "      <td>0</td>\n",
       "      <td>1</td>\n",
       "      <td>1</td>\n",
       "      <td>1</td>\n",
       "      <td>0</td>\n",
       "      <td>0</td>\n",
       "    </tr>\n",
       "    <tr>\n",
       "      <th>5</th>\n",
       "      <td>60</td>\n",
       "      <td>RL</td>\n",
       "      <td>84.0</td>\n",
       "      <td>14260</td>\n",
       "      <td>Pave</td>\n",
       "      <td>None</td>\n",
       "      <td>IR1</td>\n",
       "      <td>Lvl</td>\n",
       "      <td>AllPub</td>\n",
       "      <td>FR2</td>\n",
       "      <td>...</td>\n",
       "      <td>0</td>\n",
       "      <td>0</td>\n",
       "      <td>0</td>\n",
       "      <td>0</td>\n",
       "      <td>0</td>\n",
       "      <td>1</td>\n",
       "      <td>1</td>\n",
       "      <td>1</td>\n",
       "      <td>0</td>\n",
       "      <td>0</td>\n",
       "    </tr>\n",
       "    <tr>\n",
       "      <th>...</th>\n",
       "      <td>...</td>\n",
       "      <td>...</td>\n",
       "      <td>...</td>\n",
       "      <td>...</td>\n",
       "      <td>...</td>\n",
       "      <td>...</td>\n",
       "      <td>...</td>\n",
       "      <td>...</td>\n",
       "      <td>...</td>\n",
       "      <td>...</td>\n",
       "      <td>...</td>\n",
       "      <td>...</td>\n",
       "      <td>...</td>\n",
       "      <td>...</td>\n",
       "      <td>...</td>\n",
       "      <td>...</td>\n",
       "      <td>...</td>\n",
       "      <td>...</td>\n",
       "      <td>...</td>\n",
       "      <td>...</td>\n",
       "      <td>...</td>\n",
       "    </tr>\n",
       "    <tr>\n",
       "      <th>1456</th>\n",
       "      <td>60</td>\n",
       "      <td>RL</td>\n",
       "      <td>62.0</td>\n",
       "      <td>7917</td>\n",
       "      <td>Pave</td>\n",
       "      <td>None</td>\n",
       "      <td>Reg</td>\n",
       "      <td>Lvl</td>\n",
       "      <td>AllPub</td>\n",
       "      <td>Inside</td>\n",
       "      <td>...</td>\n",
       "      <td>0</td>\n",
       "      <td>0</td>\n",
       "      <td>0</td>\n",
       "      <td>0</td>\n",
       "      <td>0</td>\n",
       "      <td>1</td>\n",
       "      <td>1</td>\n",
       "      <td>1</td>\n",
       "      <td>0</td>\n",
       "      <td>0</td>\n",
       "    </tr>\n",
       "    <tr>\n",
       "      <th>1457</th>\n",
       "      <td>20</td>\n",
       "      <td>RL</td>\n",
       "      <td>85.0</td>\n",
       "      <td>13175</td>\n",
       "      <td>Pave</td>\n",
       "      <td>None</td>\n",
       "      <td>Reg</td>\n",
       "      <td>Lvl</td>\n",
       "      <td>AllPub</td>\n",
       "      <td>Inside</td>\n",
       "      <td>...</td>\n",
       "      <td>0</td>\n",
       "      <td>0</td>\n",
       "      <td>0</td>\n",
       "      <td>0</td>\n",
       "      <td>0</td>\n",
       "      <td>1</td>\n",
       "      <td>0</td>\n",
       "      <td>1</td>\n",
       "      <td>0</td>\n",
       "      <td>0</td>\n",
       "    </tr>\n",
       "    <tr>\n",
       "      <th>1458</th>\n",
       "      <td>70</td>\n",
       "      <td>RL</td>\n",
       "      <td>66.0</td>\n",
       "      <td>9042</td>\n",
       "      <td>Pave</td>\n",
       "      <td>None</td>\n",
       "      <td>Reg</td>\n",
       "      <td>Lvl</td>\n",
       "      <td>AllPub</td>\n",
       "      <td>Inside</td>\n",
       "      <td>...</td>\n",
       "      <td>0</td>\n",
       "      <td>0</td>\n",
       "      <td>0</td>\n",
       "      <td>0</td>\n",
       "      <td>0</td>\n",
       "      <td>1</td>\n",
       "      <td>0</td>\n",
       "      <td>0</td>\n",
       "      <td>0</td>\n",
       "      <td>0</td>\n",
       "    </tr>\n",
       "    <tr>\n",
       "      <th>1459</th>\n",
       "      <td>20</td>\n",
       "      <td>RL</td>\n",
       "      <td>68.0</td>\n",
       "      <td>9717</td>\n",
       "      <td>Pave</td>\n",
       "      <td>None</td>\n",
       "      <td>Reg</td>\n",
       "      <td>Lvl</td>\n",
       "      <td>AllPub</td>\n",
       "      <td>Inside</td>\n",
       "      <td>...</td>\n",
       "      <td>0</td>\n",
       "      <td>0</td>\n",
       "      <td>0</td>\n",
       "      <td>0</td>\n",
       "      <td>0</td>\n",
       "      <td>1</td>\n",
       "      <td>1</td>\n",
       "      <td>1</td>\n",
       "      <td>0</td>\n",
       "      <td>0</td>\n",
       "    </tr>\n",
       "    <tr>\n",
       "      <th>1460</th>\n",
       "      <td>20</td>\n",
       "      <td>RL</td>\n",
       "      <td>75.0</td>\n",
       "      <td>9937</td>\n",
       "      <td>Pave</td>\n",
       "      <td>None</td>\n",
       "      <td>Reg</td>\n",
       "      <td>Lvl</td>\n",
       "      <td>AllPub</td>\n",
       "      <td>Inside</td>\n",
       "      <td>...</td>\n",
       "      <td>0</td>\n",
       "      <td>0</td>\n",
       "      <td>0</td>\n",
       "      <td>0</td>\n",
       "      <td>0</td>\n",
       "      <td>1</td>\n",
       "      <td>1</td>\n",
       "      <td>1</td>\n",
       "      <td>0</td>\n",
       "      <td>0</td>\n",
       "    </tr>\n",
       "  </tbody>\n",
       "</table>\n",
       "<p>1460 rows × 160 columns</p>\n",
       "</div>"
      ],
      "text/plain": [
       "     MSSubClass MSZoning  LotFrontage  LotArea Street Alley LotShape  \\\n",
       "Id                                                                     \n",
       "1            60       RL         65.0     8450   Pave  None      Reg   \n",
       "2            20       RL         80.0     9600   Pave  None      Reg   \n",
       "3            60       RL         68.0    11250   Pave  None      IR1   \n",
       "4            70       RL         60.0     9550   Pave  None      IR1   \n",
       "5            60       RL         84.0    14260   Pave  None      IR1   \n",
       "...         ...      ...          ...      ...    ...   ...      ...   \n",
       "1456         60       RL         62.0     7917   Pave  None      Reg   \n",
       "1457         20       RL         85.0    13175   Pave  None      Reg   \n",
       "1458         70       RL         66.0     9042   Pave  None      Reg   \n",
       "1459         20       RL         68.0     9717   Pave  None      Reg   \n",
       "1460         20       RL         75.0     9937   Pave  None      Reg   \n",
       "\n",
       "     LandContour Utilities LotConfig  ... GarageType_imputed  \\\n",
       "Id                                    ...                      \n",
       "1            Lvl    AllPub    Inside  ...                  0   \n",
       "2            Lvl    AllPub       FR2  ...                  0   \n",
       "3            Lvl    AllPub    Inside  ...                  0   \n",
       "4            Lvl    AllPub    Corner  ...                  0   \n",
       "5            Lvl    AllPub       FR2  ...                  0   \n",
       "...          ...       ...       ...  ...                ...   \n",
       "1456         Lvl    AllPub    Inside  ...                  0   \n",
       "1457         Lvl    AllPub    Inside  ...                  0   \n",
       "1458         Lvl    AllPub    Inside  ...                  0   \n",
       "1459         Lvl    AllPub    Inside  ...                  0   \n",
       "1460         Lvl    AllPub    Inside  ...                  0   \n",
       "\n",
       "     GarageFinish_imputed GarageQual_imputed GarageCond_imputed  \\\n",
       "Id                                                                \n",
       "1                       0                  0                  0   \n",
       "2                       0                  0                  0   \n",
       "3                       0                  0                  0   \n",
       "4                       0                  0                  0   \n",
       "5                       0                  0                  0   \n",
       "...                   ...                ...                ...   \n",
       "1456                    0                  0                  0   \n",
       "1457                    0                  0                  0   \n",
       "1458                    0                  0                  0   \n",
       "1459                    0                  0                  0   \n",
       "1460                    0                  0                  0   \n",
       "\n",
       "     PavedDrive_imputed PoolQC_imputed Fence_imputed MiscFeature_imputed  \\\n",
       "Id                                                                         \n",
       "1                     0              1             1                   1   \n",
       "2                     0              1             1                   1   \n",
       "3                     0              1             1                   1   \n",
       "4                     0              1             1                   1   \n",
       "5                     0              1             1                   1   \n",
       "...                 ...            ...           ...                 ...   \n",
       "1456                  0              1             1                   1   \n",
       "1457                  0              1             0                   1   \n",
       "1458                  0              1             0                   0   \n",
       "1459                  0              1             1                   1   \n",
       "1460                  0              1             1                   1   \n",
       "\n",
       "      SaleType_imputed  SaleCondition_imputed  \n",
       "Id                                             \n",
       "1                    0                      0  \n",
       "2                    0                      0  \n",
       "3                    0                      0  \n",
       "4                    0                      0  \n",
       "5                    0                      0  \n",
       "...                ...                    ...  \n",
       "1456                 0                      0  \n",
       "1457                 0                      0  \n",
       "1458                 0                      0  \n",
       "1459                 0                      0  \n",
       "1460                 0                      0  \n",
       "\n",
       "[1460 rows x 160 columns]"
      ]
     },
     "metadata": {},
     "output_type": "display_data"
    },
    {
     "data": {
      "text/html": [
       "<div>\n",
       "<style scoped>\n",
       "    .dataframe tbody tr th:only-of-type {\n",
       "        vertical-align: middle;\n",
       "    }\n",
       "\n",
       "    .dataframe tbody tr th {\n",
       "        vertical-align: top;\n",
       "    }\n",
       "\n",
       "    .dataframe thead th {\n",
       "        text-align: right;\n",
       "    }\n",
       "</style>\n",
       "<table border=\"1\" class=\"dataframe\">\n",
       "  <thead>\n",
       "    <tr style=\"text-align: right;\">\n",
       "      <th></th>\n",
       "      <th>MSSubClass</th>\n",
       "      <th>MSZoning</th>\n",
       "      <th>LotFrontage</th>\n",
       "      <th>LotArea</th>\n",
       "      <th>Street</th>\n",
       "      <th>Alley</th>\n",
       "      <th>LotShape</th>\n",
       "      <th>LandContour</th>\n",
       "      <th>Utilities</th>\n",
       "      <th>LotConfig</th>\n",
       "      <th>...</th>\n",
       "      <th>GarageType_imputed</th>\n",
       "      <th>GarageFinish_imputed</th>\n",
       "      <th>GarageQual_imputed</th>\n",
       "      <th>GarageCond_imputed</th>\n",
       "      <th>PavedDrive_imputed</th>\n",
       "      <th>PoolQC_imputed</th>\n",
       "      <th>Fence_imputed</th>\n",
       "      <th>MiscFeature_imputed</th>\n",
       "      <th>SaleType_imputed</th>\n",
       "      <th>SaleCondition_imputed</th>\n",
       "    </tr>\n",
       "    <tr>\n",
       "      <th>Id</th>\n",
       "      <th></th>\n",
       "      <th></th>\n",
       "      <th></th>\n",
       "      <th></th>\n",
       "      <th></th>\n",
       "      <th></th>\n",
       "      <th></th>\n",
       "      <th></th>\n",
       "      <th></th>\n",
       "      <th></th>\n",
       "      <th></th>\n",
       "      <th></th>\n",
       "      <th></th>\n",
       "      <th></th>\n",
       "      <th></th>\n",
       "      <th></th>\n",
       "      <th></th>\n",
       "      <th></th>\n",
       "      <th></th>\n",
       "      <th></th>\n",
       "      <th></th>\n",
       "    </tr>\n",
       "  </thead>\n",
       "  <tbody>\n",
       "    <tr>\n",
       "      <th>1461</th>\n",
       "      <td>20</td>\n",
       "      <td>RH</td>\n",
       "      <td>80.0</td>\n",
       "      <td>11622</td>\n",
       "      <td>Pave</td>\n",
       "      <td>None</td>\n",
       "      <td>Reg</td>\n",
       "      <td>Lvl</td>\n",
       "      <td>AllPub</td>\n",
       "      <td>Inside</td>\n",
       "      <td>...</td>\n",
       "      <td>0</td>\n",
       "      <td>0</td>\n",
       "      <td>0</td>\n",
       "      <td>0</td>\n",
       "      <td>0</td>\n",
       "      <td>1</td>\n",
       "      <td>0</td>\n",
       "      <td>1</td>\n",
       "      <td>0</td>\n",
       "      <td>0</td>\n",
       "    </tr>\n",
       "    <tr>\n",
       "      <th>1462</th>\n",
       "      <td>20</td>\n",
       "      <td>RL</td>\n",
       "      <td>81.0</td>\n",
       "      <td>14267</td>\n",
       "      <td>Pave</td>\n",
       "      <td>None</td>\n",
       "      <td>IR1</td>\n",
       "      <td>Lvl</td>\n",
       "      <td>AllPub</td>\n",
       "      <td>Corner</td>\n",
       "      <td>...</td>\n",
       "      <td>0</td>\n",
       "      <td>0</td>\n",
       "      <td>0</td>\n",
       "      <td>0</td>\n",
       "      <td>0</td>\n",
       "      <td>1</td>\n",
       "      <td>1</td>\n",
       "      <td>0</td>\n",
       "      <td>0</td>\n",
       "      <td>0</td>\n",
       "    </tr>\n",
       "    <tr>\n",
       "      <th>1463</th>\n",
       "      <td>60</td>\n",
       "      <td>RL</td>\n",
       "      <td>74.0</td>\n",
       "      <td>13830</td>\n",
       "      <td>Pave</td>\n",
       "      <td>None</td>\n",
       "      <td>IR1</td>\n",
       "      <td>Lvl</td>\n",
       "      <td>AllPub</td>\n",
       "      <td>Inside</td>\n",
       "      <td>...</td>\n",
       "      <td>0</td>\n",
       "      <td>0</td>\n",
       "      <td>0</td>\n",
       "      <td>0</td>\n",
       "      <td>0</td>\n",
       "      <td>1</td>\n",
       "      <td>0</td>\n",
       "      <td>1</td>\n",
       "      <td>0</td>\n",
       "      <td>0</td>\n",
       "    </tr>\n",
       "    <tr>\n",
       "      <th>1464</th>\n",
       "      <td>60</td>\n",
       "      <td>RL</td>\n",
       "      <td>78.0</td>\n",
       "      <td>9978</td>\n",
       "      <td>Pave</td>\n",
       "      <td>None</td>\n",
       "      <td>IR1</td>\n",
       "      <td>Lvl</td>\n",
       "      <td>AllPub</td>\n",
       "      <td>Inside</td>\n",
       "      <td>...</td>\n",
       "      <td>0</td>\n",
       "      <td>0</td>\n",
       "      <td>0</td>\n",
       "      <td>0</td>\n",
       "      <td>0</td>\n",
       "      <td>1</td>\n",
       "      <td>1</td>\n",
       "      <td>1</td>\n",
       "      <td>0</td>\n",
       "      <td>0</td>\n",
       "    </tr>\n",
       "    <tr>\n",
       "      <th>1465</th>\n",
       "      <td>120</td>\n",
       "      <td>RL</td>\n",
       "      <td>43.0</td>\n",
       "      <td>5005</td>\n",
       "      <td>Pave</td>\n",
       "      <td>None</td>\n",
       "      <td>IR1</td>\n",
       "      <td>HLS</td>\n",
       "      <td>AllPub</td>\n",
       "      <td>Inside</td>\n",
       "      <td>...</td>\n",
       "      <td>0</td>\n",
       "      <td>0</td>\n",
       "      <td>0</td>\n",
       "      <td>0</td>\n",
       "      <td>0</td>\n",
       "      <td>1</td>\n",
       "      <td>1</td>\n",
       "      <td>1</td>\n",
       "      <td>0</td>\n",
       "      <td>0</td>\n",
       "    </tr>\n",
       "    <tr>\n",
       "      <th>...</th>\n",
       "      <td>...</td>\n",
       "      <td>...</td>\n",
       "      <td>...</td>\n",
       "      <td>...</td>\n",
       "      <td>...</td>\n",
       "      <td>...</td>\n",
       "      <td>...</td>\n",
       "      <td>...</td>\n",
       "      <td>...</td>\n",
       "      <td>...</td>\n",
       "      <td>...</td>\n",
       "      <td>...</td>\n",
       "      <td>...</td>\n",
       "      <td>...</td>\n",
       "      <td>...</td>\n",
       "      <td>...</td>\n",
       "      <td>...</td>\n",
       "      <td>...</td>\n",
       "      <td>...</td>\n",
       "      <td>...</td>\n",
       "      <td>...</td>\n",
       "    </tr>\n",
       "    <tr>\n",
       "      <th>2915</th>\n",
       "      <td>160</td>\n",
       "      <td>RM</td>\n",
       "      <td>21.0</td>\n",
       "      <td>1936</td>\n",
       "      <td>Pave</td>\n",
       "      <td>None</td>\n",
       "      <td>Reg</td>\n",
       "      <td>Lvl</td>\n",
       "      <td>AllPub</td>\n",
       "      <td>Inside</td>\n",
       "      <td>...</td>\n",
       "      <td>1</td>\n",
       "      <td>1</td>\n",
       "      <td>1</td>\n",
       "      <td>1</td>\n",
       "      <td>0</td>\n",
       "      <td>1</td>\n",
       "      <td>1</td>\n",
       "      <td>1</td>\n",
       "      <td>0</td>\n",
       "      <td>0</td>\n",
       "    </tr>\n",
       "    <tr>\n",
       "      <th>2916</th>\n",
       "      <td>160</td>\n",
       "      <td>RM</td>\n",
       "      <td>21.0</td>\n",
       "      <td>1894</td>\n",
       "      <td>Pave</td>\n",
       "      <td>None</td>\n",
       "      <td>Reg</td>\n",
       "      <td>Lvl</td>\n",
       "      <td>AllPub</td>\n",
       "      <td>Inside</td>\n",
       "      <td>...</td>\n",
       "      <td>0</td>\n",
       "      <td>0</td>\n",
       "      <td>0</td>\n",
       "      <td>0</td>\n",
       "      <td>0</td>\n",
       "      <td>1</td>\n",
       "      <td>1</td>\n",
       "      <td>1</td>\n",
       "      <td>0</td>\n",
       "      <td>0</td>\n",
       "    </tr>\n",
       "    <tr>\n",
       "      <th>2917</th>\n",
       "      <td>20</td>\n",
       "      <td>RL</td>\n",
       "      <td>160.0</td>\n",
       "      <td>20000</td>\n",
       "      <td>Pave</td>\n",
       "      <td>None</td>\n",
       "      <td>Reg</td>\n",
       "      <td>Lvl</td>\n",
       "      <td>AllPub</td>\n",
       "      <td>Inside</td>\n",
       "      <td>...</td>\n",
       "      <td>0</td>\n",
       "      <td>0</td>\n",
       "      <td>0</td>\n",
       "      <td>0</td>\n",
       "      <td>0</td>\n",
       "      <td>1</td>\n",
       "      <td>1</td>\n",
       "      <td>1</td>\n",
       "      <td>0</td>\n",
       "      <td>0</td>\n",
       "    </tr>\n",
       "    <tr>\n",
       "      <th>2918</th>\n",
       "      <td>85</td>\n",
       "      <td>RL</td>\n",
       "      <td>62.0</td>\n",
       "      <td>10441</td>\n",
       "      <td>Pave</td>\n",
       "      <td>None</td>\n",
       "      <td>Reg</td>\n",
       "      <td>Lvl</td>\n",
       "      <td>AllPub</td>\n",
       "      <td>Inside</td>\n",
       "      <td>...</td>\n",
       "      <td>1</td>\n",
       "      <td>1</td>\n",
       "      <td>1</td>\n",
       "      <td>1</td>\n",
       "      <td>0</td>\n",
       "      <td>1</td>\n",
       "      <td>0</td>\n",
       "      <td>0</td>\n",
       "      <td>0</td>\n",
       "      <td>0</td>\n",
       "    </tr>\n",
       "    <tr>\n",
       "      <th>2919</th>\n",
       "      <td>60</td>\n",
       "      <td>RL</td>\n",
       "      <td>74.0</td>\n",
       "      <td>9627</td>\n",
       "      <td>Pave</td>\n",
       "      <td>None</td>\n",
       "      <td>Reg</td>\n",
       "      <td>Lvl</td>\n",
       "      <td>AllPub</td>\n",
       "      <td>Inside</td>\n",
       "      <td>...</td>\n",
       "      <td>0</td>\n",
       "      <td>0</td>\n",
       "      <td>0</td>\n",
       "      <td>0</td>\n",
       "      <td>0</td>\n",
       "      <td>1</td>\n",
       "      <td>1</td>\n",
       "      <td>1</td>\n",
       "      <td>0</td>\n",
       "      <td>0</td>\n",
       "    </tr>\n",
       "  </tbody>\n",
       "</table>\n",
       "<p>1459 rows × 160 columns</p>\n",
       "</div>"
      ],
      "text/plain": [
       "     MSSubClass MSZoning  LotFrontage  LotArea Street Alley LotShape  \\\n",
       "Id                                                                     \n",
       "1461         20       RH         80.0    11622   Pave  None      Reg   \n",
       "1462         20       RL         81.0    14267   Pave  None      IR1   \n",
       "1463         60       RL         74.0    13830   Pave  None      IR1   \n",
       "1464         60       RL         78.0     9978   Pave  None      IR1   \n",
       "1465        120       RL         43.0     5005   Pave  None      IR1   \n",
       "...         ...      ...          ...      ...    ...   ...      ...   \n",
       "2915        160       RM         21.0     1936   Pave  None      Reg   \n",
       "2916        160       RM         21.0     1894   Pave  None      Reg   \n",
       "2917         20       RL        160.0    20000   Pave  None      Reg   \n",
       "2918         85       RL         62.0    10441   Pave  None      Reg   \n",
       "2919         60       RL         74.0     9627   Pave  None      Reg   \n",
       "\n",
       "     LandContour Utilities LotConfig  ... GarageType_imputed  \\\n",
       "Id                                    ...                      \n",
       "1461         Lvl    AllPub    Inside  ...                  0   \n",
       "1462         Lvl    AllPub    Corner  ...                  0   \n",
       "1463         Lvl    AllPub    Inside  ...                  0   \n",
       "1464         Lvl    AllPub    Inside  ...                  0   \n",
       "1465         HLS    AllPub    Inside  ...                  0   \n",
       "...          ...       ...       ...  ...                ...   \n",
       "2915         Lvl    AllPub    Inside  ...                  1   \n",
       "2916         Lvl    AllPub    Inside  ...                  0   \n",
       "2917         Lvl    AllPub    Inside  ...                  0   \n",
       "2918         Lvl    AllPub    Inside  ...                  1   \n",
       "2919         Lvl    AllPub    Inside  ...                  0   \n",
       "\n",
       "     GarageFinish_imputed GarageQual_imputed GarageCond_imputed  \\\n",
       "Id                                                                \n",
       "1461                    0                  0                  0   \n",
       "1462                    0                  0                  0   \n",
       "1463                    0                  0                  0   \n",
       "1464                    0                  0                  0   \n",
       "1465                    0                  0                  0   \n",
       "...                   ...                ...                ...   \n",
       "2915                    1                  1                  1   \n",
       "2916                    0                  0                  0   \n",
       "2917                    0                  0                  0   \n",
       "2918                    1                  1                  1   \n",
       "2919                    0                  0                  0   \n",
       "\n",
       "     PavedDrive_imputed PoolQC_imputed Fence_imputed MiscFeature_imputed  \\\n",
       "Id                                                                         \n",
       "1461                  0              1             0                   1   \n",
       "1462                  0              1             1                   0   \n",
       "1463                  0              1             0                   1   \n",
       "1464                  0              1             1                   1   \n",
       "1465                  0              1             1                   1   \n",
       "...                 ...            ...           ...                 ...   \n",
       "2915                  0              1             1                   1   \n",
       "2916                  0              1             1                   1   \n",
       "2917                  0              1             1                   1   \n",
       "2918                  0              1             0                   0   \n",
       "2919                  0              1             1                   1   \n",
       "\n",
       "      SaleType_imputed  SaleCondition_imputed  \n",
       "Id                                             \n",
       "1461                 0                      0  \n",
       "1462                 0                      0  \n",
       "1463                 0                      0  \n",
       "1464                 0                      0  \n",
       "1465                 0                      0  \n",
       "...                ...                    ...  \n",
       "2915                 0                      0  \n",
       "2916                 0                      0  \n",
       "2917                 0                      0  \n",
       "2918                 0                      0  \n",
       "2919                 0                      0  \n",
       "\n",
       "[1459 rows x 160 columns]"
      ]
     },
     "metadata": {},
     "output_type": "display_data"
    },
    {
     "name": "stdout",
     "output_type": "stream",
     "text": [
      "<class 'pandas.core.frame.DataFrame'>\n",
      "Int64Index: 1460 entries, 1 to 1460\n",
      "Columns: 160 entries, MSSubClass to SaleCondition_imputed\n",
      "dtypes: category(46), float64(12), int64(102)\n",
      "memory usage: 1.4 MB\n"
     ]
    },
    {
     "data": {
      "text/plain": [
       "None"
      ]
     },
     "metadata": {},
     "output_type": "display_data"
    },
    {
     "name": "stdout",
     "output_type": "stream",
     "text": [
      "<class 'pandas.core.frame.DataFrame'>\n",
      "Int64Index: 1459 entries, 1461 to 2919\n",
      "Columns: 160 entries, MSSubClass to SaleCondition_imputed\n",
      "dtypes: category(46), float64(12), int64(102)\n",
      "memory usage: 1.4 MB\n"
     ]
    },
    {
     "data": {
      "text/plain": [
       "None"
      ]
     },
     "metadata": {},
     "output_type": "display_data"
    }
   ],
   "source": [
    "# Peek at the values\n",
    "display(df_train)\n",
    "display(df_test)\n",
    "\n",
    "# Display information about dtypes and missing values\n",
    "display(df_train.info())\n",
    "display(df_test.info())"
   ]
  },
  {
   "cell_type": "markdown",
   "id": "f1a44d19",
   "metadata": {
    "papermill": {
     "duration": 0.010882,
     "end_time": "2023-03-20T13:13:39.537095",
     "exception": false,
     "start_time": "2023-03-20T13:13:39.526213",
     "status": "completed"
    },
    "tags": []
   },
   "source": [
    "## Establish Baseline ##\n",
    "\n",
    "Function to establish a baseline score to judge feature engineering techniques against.\n",
    "\n",
    "Computes the cross-validated RMSLE score for a feature set using XGBoost.\n"
   ]
  },
  {
   "cell_type": "code",
   "execution_count": 9,
   "id": "7df457d3",
   "metadata": {
    "_kg_hide-input": true,
    "execution": {
     "iopub.execute_input": "2023-03-20T13:13:39.562293Z",
     "iopub.status.busy": "2023-03-20T13:13:39.561387Z",
     "iopub.status.idle": "2023-03-20T13:13:39.570011Z",
     "shell.execute_reply": "2023-03-20T13:13:39.568633Z"
    },
    "papermill": {
     "duration": 0.024329,
     "end_time": "2023-03-20T13:13:39.572850",
     "exception": false,
     "start_time": "2023-03-20T13:13:39.548521",
     "status": "completed"
    },
    "tags": []
   },
   "outputs": [],
   "source": [
    "\n",
    "def score_dataset(X, y, model=XGBRegressor()):\n",
    "    # Label encoding for categoricals\n",
    "    #\n",
    "    # Label encoding is good for XGBoost and RandomForest, but one-hot\n",
    "    # would be better for models like Lasso or Ridge. The `cat.codes`\n",
    "    # attribute holds the category levels.\n",
    "    for colname in X.select_dtypes([\"category\"]):\n",
    "        X[colname] = X[colname].cat.codes\n",
    "    # Metric for Housing competition is RMSLE (Root Mean Squared Log Error)\n",
    "    log_y = np.log(y)\n",
    "    score = cross_val_score(\n",
    "        model, X, log_y, cv=5, scoring=\"neg_mean_squared_error\",\n",
    "    )\n",
    "    score = -1 * score.mean()\n",
    "    score = np.sqrt(score)\n",
    "    return score\n"
   ]
  },
  {
   "cell_type": "code",
   "execution_count": 10,
   "id": "af0e8bb7",
   "metadata": {
    "execution": {
     "iopub.execute_input": "2023-03-20T13:13:39.597222Z",
     "iopub.status.busy": "2023-03-20T13:13:39.596730Z",
     "iopub.status.idle": "2023-03-20T13:13:43.681246Z",
     "shell.execute_reply": "2023-03-20T13:13:43.680063Z"
    },
    "papermill": {
     "duration": 4.101148,
     "end_time": "2023-03-20T13:13:43.685482",
     "exception": false,
     "start_time": "2023-03-20T13:13:39.584334",
     "status": "completed"
    },
    "tags": []
   },
   "outputs": [
    {
     "name": "stdout",
     "output_type": "stream",
     "text": [
      "Baseline score: 0.14357 RMSLE\n"
     ]
    }
   ],
   "source": [
    "X = df_train.copy()\n",
    "y = X.pop(\"SalePrice\")\n",
    "\n",
    "baseline_score = score_dataset(X, y)\n",
    "print(f\"Baseline score: {baseline_score:.5f} RMSLE\")"
   ]
  },
  {
   "cell_type": "markdown",
   "id": "28a50df9",
   "metadata": {
    "papermill": {
     "duration": 0.011088,
     "end_time": "2023-03-20T13:13:43.709995",
     "exception": false,
     "start_time": "2023-03-20T13:13:43.698907",
     "status": "completed"
    },
    "tags": []
   },
   "source": [
    "# Step 2 - Feature Utility Scores #\n",
    "\n",
    "Computes mutual information scores between each feature in the dataset X and the target variable y. Additionally, it computes the pairwise correlation coefficients between features and drops those that have a correlation coefficient greater than the specified threshold. Finally, it drops all uninformative features."
   ]
  },
  {
   "cell_type": "code",
   "execution_count": 11,
   "id": "8d2543ba",
   "metadata": {
    "_kg_hide-input": true,
    "execution": {
     "iopub.execute_input": "2023-03-20T13:13:43.734935Z",
     "iopub.status.busy": "2023-03-20T13:13:43.734510Z",
     "iopub.status.idle": "2023-03-20T13:13:43.744515Z",
     "shell.execute_reply": "2023-03-20T13:13:43.743430Z"
    },
    "papermill": {
     "duration": 0.025428,
     "end_time": "2023-03-20T13:13:43.746804",
     "exception": false,
     "start_time": "2023-03-20T13:13:43.721376",
     "status": "completed"
    },
    "tags": []
   },
   "outputs": [],
   "source": [
    "def make_mi_scores(X, y):\n",
    "    X = X.copy()\n",
    "    for colname in X.select_dtypes([\"object\", \"category\"]):\n",
    "        X[colname], _ = X[colname].factorize()\n",
    "    # All discrete features should now have integer dtypes\n",
    "    discrete_features = [pd.api.types.is_integer_dtype(t) for t in X.dtypes]\n",
    "    mi_scores = mutual_info_regression(X, y, discrete_features=discrete_features, random_state=0)\n",
    "    mi_scores = pd.Series(mi_scores, name=\"MI Scores\", index=X.columns)\n",
    "    mi_scores = mi_scores.sort_values(ascending=False)\n",
    "    return mi_scores\n",
    "\n",
    "def plot_mi_scores(scores):\n",
    "    scores = scores.sort_values(ascending=True)\n",
    "    width = np.arange(len(scores))\n",
    "    ticks = list(scores.index)\n",
    "    plt.barh(width, scores)\n",
    "    plt.yticks(width, ticks)\n",
    "    plt.title(\"Mutual Information Scores\")\n",
    "\n",
    "def drop_uninformative(df, mi_scores, corr_threshold=0.8):\n",
    "    # Drop uninformative features based on mutual information scores\n",
    "    df = df.loc[:, mi_scores > 0.0]\n",
    "    return df\n",
    "\n"
   ]
  },
  {
   "cell_type": "code",
   "execution_count": 12,
   "id": "2b1d59eb",
   "metadata": {
    "execution": {
     "iopub.execute_input": "2023-03-20T13:13:43.773067Z",
     "iopub.status.busy": "2023-03-20T13:13:43.772226Z",
     "iopub.status.idle": "2023-03-20T13:13:45.938367Z",
     "shell.execute_reply": "2023-03-20T13:13:45.937149Z"
    },
    "papermill": {
     "duration": 2.182693,
     "end_time": "2023-03-20T13:13:45.941095",
     "exception": false,
     "start_time": "2023-03-20T13:13:43.758402",
     "status": "completed"
    },
    "tags": []
   },
   "outputs": [
    {
     "data": {
      "text/plain": [
       "OverallQual            0.571457\n",
       "Neighborhood           0.526220\n",
       "GrLivArea              0.430395\n",
       "YearBuilt              0.407974\n",
       "LotArea                0.394468\n",
       "                         ...   \n",
       "MiscVal                0.000000\n",
       "PoolQC_imputed         0.000000\n",
       "MiscFeature            0.000000\n",
       "MiscFeature_imputed    0.000000\n",
       "PoolQC                 0.000000\n",
       "Name: MI Scores, Length: 159, dtype: float64"
      ]
     },
     "execution_count": 12,
     "metadata": {},
     "output_type": "execute_result"
    }
   ],
   "source": [
    "X = df_train.copy()\n",
    "y = X.pop(\"SalePrice\")\n",
    "\n",
    "mi_scores = make_mi_scores(X, y)\n",
    "mi_scores"
   ]
  },
  {
   "cell_type": "code",
   "execution_count": 13,
   "id": "412f69d9",
   "metadata": {
    "execution": {
     "iopub.execute_input": "2023-03-20T13:13:45.970205Z",
     "iopub.status.busy": "2023-03-20T13:13:45.969775Z",
     "iopub.status.idle": "2023-03-20T13:13:50.035477Z",
     "shell.execute_reply": "2023-03-20T13:13:50.034337Z"
    },
    "papermill": {
     "duration": 4.085964,
     "end_time": "2023-03-20T13:13:50.038639",
     "exception": false,
     "start_time": "2023-03-20T13:13:45.952675",
     "status": "completed"
    },
    "tags": []
   },
   "outputs": [
    {
     "data": {
      "text/plain": [
       "0.1424728590252252"
      ]
     },
     "execution_count": 13,
     "metadata": {},
     "output_type": "execute_result"
    }
   ],
   "source": [
    "X = df_train.copy()\n",
    "y = X.pop(\"SalePrice\")\n",
    "X = drop_uninformative(X, mi_scores)\n",
    "\n",
    "score_dataset(X, y)\n",
    "\n",
    "#0.1424728590252252\n"
   ]
  },
  {
   "cell_type": "markdown",
   "id": "26b928b3",
   "metadata": {
    "papermill": {
     "duration": 0.011698,
     "end_time": "2023-03-20T13:13:50.063764",
     "exception": false,
     "start_time": "2023-03-20T13:13:50.052066",
     "status": "completed"
    },
    "tags": []
   },
   "source": [
    "# Step 3 - Create Features #"
   ]
  },
  {
   "cell_type": "code",
   "execution_count": 14,
   "id": "e0e5de7f",
   "metadata": {
    "execution": {
     "iopub.execute_input": "2023-03-20T13:13:50.090305Z",
     "iopub.status.busy": "2023-03-20T13:13:50.089233Z",
     "iopub.status.idle": "2023-03-20T13:13:50.095623Z",
     "shell.execute_reply": "2023-03-20T13:13:50.094265Z"
    },
    "papermill": {
     "duration": 0.02267,
     "end_time": "2023-03-20T13:13:50.098391",
     "exception": false,
     "start_time": "2023-03-20T13:13:50.075721",
     "status": "completed"
    },
    "tags": []
   },
   "outputs": [],
   "source": [
    "def label_encode(df):\n",
    "    X = df.copy()\n",
    "    for colname in X.select_dtypes([\"category\"]):\n",
    "        X[colname] = X[colname].cat.codes\n",
    "    return X\n"
   ]
  },
  {
   "cell_type": "markdown",
   "id": "896fbaa1",
   "metadata": {
    "papermill": {
     "duration": 0.011253,
     "end_time": "2023-03-20T13:13:50.121911",
     "exception": false,
     "start_time": "2023-03-20T13:13:50.110658",
     "status": "completed"
    },
    "tags": []
   },
   "source": [
    "## Create Features with Pandas ##\n"
   ]
  },
  {
   "cell_type": "code",
   "execution_count": 15,
   "id": "44afefaa",
   "metadata": {
    "_kg_hide-input": true,
    "execution": {
     "iopub.execute_input": "2023-03-20T13:13:50.147751Z",
     "iopub.status.busy": "2023-03-20T13:13:50.147293Z",
     "iopub.status.idle": "2023-03-20T13:13:50.158206Z",
     "shell.execute_reply": "2023-03-20T13:13:50.156741Z"
    },
    "papermill": {
     "duration": 0.027407,
     "end_time": "2023-03-20T13:13:50.161249",
     "exception": false,
     "start_time": "2023-03-20T13:13:50.133842",
     "status": "completed"
    },
    "tags": []
   },
   "outputs": [],
   "source": [
    "\n",
    "def mathematical_transforms(df):\n",
    "    X = pd.DataFrame()  # dataframe to hold new features\n",
    "    X[\"LivLotRatio\"] = df.GrLivArea / df.LotArea\n",
    "    X[\"Spaciousness\"] = (df.FirstFlrSF + df.SecondFlrSF) / df.TotRmsAbvGrd\n",
    "    # This feature ended up not helping performance\n",
    "    # X[\"TotalOutsideSF\"] = \\\n",
    "    #     df.WoodDeckSF + df.OpenPorchSF + df.EnclosedPorch + \\\n",
    "    #     df.Threeseasonporch + df.ScreenPorch\n",
    "    return X\n",
    "\n",
    "\n",
    "def interactions(df):\n",
    "    X = pd.get_dummies(df.BldgType, prefix=\"Bldg\")\n",
    "    X = X.mul(df.GrLivArea, axis=0)\n",
    "    return X\n",
    "\n",
    "\n",
    "def counts(df):\n",
    "    X = pd.DataFrame()\n",
    "    X[\"PorchTypes\"] = df[[\n",
    "        \"WoodDeckSF\",\n",
    "        \"OpenPorchSF\",\n",
    "        \"EnclosedPorch\",\n",
    "        \"Threeseasonporch\",\n",
    "        \"ScreenPorch\",\n",
    "    ]].gt(0.0).sum(axis=1)\n",
    "    return X\n",
    "\n",
    "\n",
    "def break_down(df):\n",
    "    X = pd.DataFrame()\n",
    "    X[\"MSClass\"] = df.MSSubClass.str.split(\"_\", n=1, expand=True)[0]\n",
    "    return X\n",
    "\n",
    "\n",
    "def group_transforms(df):\n",
    "    X = pd.DataFrame()\n",
    "    X[\"MedNhbdArea\"] = df.groupby(\"Neighborhood\")[\"GrLivArea\"].transform(\"median\")\n",
    "    return X\n"
   ]
  },
  {
   "cell_type": "markdown",
   "id": "64bd30c7",
   "metadata": {
    "papermill": {
     "duration": 0.011635,
     "end_time": "2023-03-20T13:13:50.184693",
     "exception": false,
     "start_time": "2023-03-20T13:13:50.173058",
     "status": "completed"
    },
    "tags": []
   },
   "source": [
    "Here are some ideas for other transforms you could explore:\n",
    "- Interactions between the quality `Qual` and condition `Cond` features. `OverallQual`, for instance, was a high-scoring feature. You could try combining it with `OverallCond` by converting both to integer type and taking a product.\n",
    "- Square roots of area features. This would convert units of square feet to just feet.\n",
    "- Logarithms of numeric features. If a feature has a skewed distribution, applying a logarithm can help normalize it.\n",
    "- Interactions between numeric and categorical features that describe the same thing. You could look at interactions between `BsmtQual` and `TotalBsmtSF`, for instance.\n",
    "- Other group statistics in `Neighboorhood`. We did the median of `GrLivArea`. Looking at `mean`, `std`, or `count` could be interesting. You could also try combining the group statistics with other features. Maybe the *difference* of `GrLivArea` and the median is important?\n",
    "\n",
    "## k-Means Clustering ##\n"
   ]
  },
  {
   "cell_type": "code",
   "execution_count": 16,
   "id": "b76b4832",
   "metadata": {
    "_kg_hide-input": true,
    "execution": {
     "iopub.execute_input": "2023-03-20T13:13:50.210279Z",
     "iopub.status.busy": "2023-03-20T13:13:50.209792Z",
     "iopub.status.idle": "2023-03-20T13:13:50.220363Z",
     "shell.execute_reply": "2023-03-20T13:13:50.219294Z"
    },
    "lines_to_next_cell": 2,
    "papermill": {
     "duration": 0.026687,
     "end_time": "2023-03-20T13:13:50.223394",
     "exception": false,
     "start_time": "2023-03-20T13:13:50.196707",
     "status": "completed"
    },
    "tags": []
   },
   "outputs": [],
   "source": [
    "\n",
    "cluster_features = [\n",
    "    \"LotArea\",\n",
    "    \"TotalBsmtSF\",\n",
    "    \"FirstFlrSF\",\n",
    "    \"SecondFlrSF\",\n",
    "    \"GrLivArea\",\n",
    "]\n",
    "\n",
    "\n",
    "def cluster_labels(df, features, n_clusters=20):\n",
    "    X = df.copy()\n",
    "    X_scaled = X.loc[:, features]\n",
    "    X_scaled = (X_scaled - X_scaled.mean(axis=0)) / X_scaled.std(axis=0)\n",
    "    kmeans = KMeans(n_clusters=n_clusters, n_init=50, random_state=0)\n",
    "    X_new = pd.DataFrame()\n",
    "    X_new[\"Cluster\"] = kmeans.fit_predict(X_scaled)\n",
    "    return X_new\n",
    "\n",
    "\n",
    "def cluster_distance(df, features, n_clusters=20):\n",
    "    X = df.copy()\n",
    "    X_scaled = X.loc[:, features]\n",
    "    X_scaled = (X_scaled - X_scaled.mean(axis=0)) / X_scaled.std(axis=0)\n",
    "    kmeans = KMeans(n_clusters=20, n_init=50, random_state=0)\n",
    "    X_cd = kmeans.fit_transform(X_scaled)\n",
    "    # Label features and join to dataset\n",
    "    X_cd = pd.DataFrame(\n",
    "        X_cd, columns=[f\"Centroid_{i}\" for i in range(X_cd.shape[1])]\n",
    "    )\n",
    "    return X_cd\n"
   ]
  },
  {
   "cell_type": "markdown",
   "id": "4c253ebb",
   "metadata": {
    "papermill": {
     "duration": 0.011259,
     "end_time": "2023-03-20T13:13:50.246415",
     "exception": false,
     "start_time": "2023-03-20T13:13:50.235156",
     "status": "completed"
    },
    "tags": []
   },
   "source": [
    "## Principal Component Analysis ##\n"
   ]
  },
  {
   "cell_type": "code",
   "execution_count": 17,
   "id": "b2d26e62",
   "metadata": {
    "_kg_hide-input": true,
    "execution": {
     "iopub.execute_input": "2023-03-20T13:13:50.272016Z",
     "iopub.status.busy": "2023-03-20T13:13:50.270908Z",
     "iopub.status.idle": "2023-03-20T13:13:50.284243Z",
     "shell.execute_reply": "2023-03-20T13:13:50.282966Z"
    },
    "papermill": {
     "duration": 0.029336,
     "end_time": "2023-03-20T13:13:50.287314",
     "exception": false,
     "start_time": "2023-03-20T13:13:50.257978",
     "status": "completed"
    },
    "tags": []
   },
   "outputs": [],
   "source": [
    "\n",
    "def apply_pca(X, standardize=True):\n",
    "    # Standardize\n",
    "    if standardize:\n",
    "        X = (X - X.mean(axis=0)) / X.std(axis=0)\n",
    "    # Create principal components\n",
    "    pca = PCA()\n",
    "    X_pca = pca.fit_transform(X)\n",
    "    # Convert to dataframe\n",
    "    component_names = [f\"PC{i+1}\" for i in range(X_pca.shape[1])]\n",
    "    X_pca = pd.DataFrame(X_pca, columns=component_names)\n",
    "    # Create loadings\n",
    "    loadings = pd.DataFrame(\n",
    "        pca.components_.T,  # transpose the matrix of loadings\n",
    "        columns=component_names,  # so the columns are the principal components\n",
    "        index=X.columns,  # and the rows are the original features\n",
    "    )\n",
    "    return pca, X_pca, loadings\n",
    "\n",
    "\n",
    "def plot_variance(pca, width=8, dpi=100):\n",
    "    # Create figure\n",
    "    fig, axs = plt.subplots(1, 2)\n",
    "    n = pca.n_components_\n",
    "    grid = np.arange(1, n + 1)\n",
    "    # Explained variance\n",
    "    evr = pca.explained_variance_ratio_\n",
    "    axs[0].bar(grid, evr)\n",
    "    axs[0].set(\n",
    "        xlabel=\"Component\", title=\"% Explained Variance\", ylim=(0.0, 1.0)\n",
    "    )\n",
    "    # Cumulative Variance\n",
    "    cv = np.cumsum(evr)\n",
    "    axs[1].plot(np.r_[0, grid], np.r_[0, cv], \"o-\")\n",
    "    axs[1].set(\n",
    "        xlabel=\"Component\", title=\"% Cumulative Variance\", ylim=(0.0, 1.0)\n",
    "    )\n",
    "    # Set up figure\n",
    "    fig.set(figwidth=8, dpi=100)\n",
    "    return axs\n"
   ]
  },
  {
   "cell_type": "code",
   "execution_count": 18,
   "id": "acb812e9",
   "metadata": {
    "_kg_hide-input": true,
    "execution": {
     "iopub.execute_input": "2023-03-20T13:13:50.313645Z",
     "iopub.status.busy": "2023-03-20T13:13:50.312674Z",
     "iopub.status.idle": "2023-03-20T13:13:50.320672Z",
     "shell.execute_reply": "2023-03-20T13:13:50.319246Z"
    },
    "papermill": {
     "duration": 0.024035,
     "end_time": "2023-03-20T13:13:50.323327",
     "exception": false,
     "start_time": "2023-03-20T13:13:50.299292",
     "status": "completed"
    },
    "tags": []
   },
   "outputs": [],
   "source": [
    "\n",
    "def pca_inspired(df):\n",
    "    X = pd.DataFrame()\n",
    "    X[\"Feature1\"] = df.GrLivArea + df.TotalBsmtSF\n",
    "    X[\"Feature2\"] = df.YearRemodAdd * df.TotalBsmtSF\n",
    "    return X\n",
    "\n",
    "\n",
    "def pca_components(df, features):\n",
    "    X = df.loc[:, features]\n",
    "    _, X_pca, _ = apply_pca(X)\n",
    "    return X_pca\n",
    "\n",
    "\n",
    "pca_features = [\n",
    "    \"GarageArea\",\n",
    "    \"YearRemodAdd\",\n",
    "    \"TotalBsmtSF\",\n",
    "    \"GrLivArea\",\n",
    "]"
   ]
  },
  {
   "cell_type": "markdown",
   "id": "8faae1ac",
   "metadata": {
    "papermill": {
     "duration": 0.011179,
     "end_time": "2023-03-20T13:13:50.346246",
     "exception": false,
     "start_time": "2023-03-20T13:13:50.335067",
     "status": "completed"
    },
    "tags": []
   },
   "source": [
    "These are only a couple ways you could use the principal components. You could also try clustering using one or more components. One thing to note is that PCA doesn't change the distance between points -- it's just like a rotation. So clustering with the full set of components is the same as clustering with the original features. Instead, pick some subset of components, maybe those with the most variance or the highest MI scores."
   ]
  },
  {
   "cell_type": "code",
   "execution_count": 19,
   "id": "1648c393",
   "metadata": {
    "execution": {
     "iopub.execute_input": "2023-03-20T13:13:50.373004Z",
     "iopub.status.busy": "2023-03-20T13:13:50.372578Z",
     "iopub.status.idle": "2023-03-20T13:13:50.378507Z",
     "shell.execute_reply": "2023-03-20T13:13:50.377052Z"
    },
    "papermill": {
     "duration": 0.023615,
     "end_time": "2023-03-20T13:13:50.382087",
     "exception": false,
     "start_time": "2023-03-20T13:13:50.358472",
     "status": "completed"
    },
    "tags": []
   },
   "outputs": [],
   "source": [
    "# def corrplot(df, method=\"pearson\", annot=True, **kwargs):\n",
    "#     sns.clustermap(\n",
    "#         df.corr(method),\n",
    "#         vmin=-1.0,\n",
    "#         vmax=1.0,\n",
    "#         cmap=\"icefire\",\n",
    "#         method=\"complete\",\n",
    "#         annot=annot,\n",
    "#         **kwargs,\n",
    "#     )\n",
    "\n",
    "\n",
    "# # corrplot(df_train, annot=None)\n",
    "# print(df_train.isnull().sum().sum())\n",
    "# print(np.isinf(df_train.corr()).sum().sum())"
   ]
  },
  {
   "cell_type": "markdown",
   "id": "c181da93",
   "metadata": {
    "papermill": {
     "duration": 0.012022,
     "end_time": "2023-03-20T13:13:50.406772",
     "exception": false,
     "start_time": "2023-03-20T13:13:50.394750",
     "status": "completed"
    },
    "tags": []
   },
   "source": [
    "### PCA Application - Indicate Outliers ###\n",
    "\n",
    "\n",
    "There are a group of houses in the `Edwards` neighborhood having a `SaleCondition` of `Partial` whose values are especially extreme.\n"
   ]
  },
  {
   "cell_type": "code",
   "execution_count": 20,
   "id": "19918c0e",
   "metadata": {
    "execution": {
     "iopub.execute_input": "2023-03-20T13:13:50.432966Z",
     "iopub.status.busy": "2023-03-20T13:13:50.432560Z",
     "iopub.status.idle": "2023-03-20T13:13:50.438128Z",
     "shell.execute_reply": "2023-03-20T13:13:50.437142Z"
    },
    "papermill": {
     "duration": 0.021332,
     "end_time": "2023-03-20T13:13:50.440626",
     "exception": false,
     "start_time": "2023-03-20T13:13:50.419294",
     "status": "completed"
    },
    "tags": []
   },
   "outputs": [],
   "source": [
    "def indicate_outliers(df):\n",
    "    X_new = pd.DataFrame()\n",
    "    X_new[\"Outlier\"] = (df.Neighborhood == \"Edwards\") & (df.SaleCondition == \"Partial\")\n",
    "    return X_new\n"
   ]
  },
  {
   "cell_type": "markdown",
   "id": "28386e12",
   "metadata": {
    "papermill": {
     "duration": 0.011413,
     "end_time": "2023-03-20T13:13:50.463974",
     "exception": false,
     "start_time": "2023-03-20T13:13:50.452561",
     "status": "completed"
    },
    "tags": []
   },
   "source": [
    "Another method: applying some sort of robust scaler from scikit-learn's `sklearn.preprocessing` module to the outlying values, especially those in `GrLivArea`. [Here](https://scikit-learn.org/stable/auto_examples/preprocessing/plot_all_scaling.html): tutorial illustrating some of them. \n",
    "Another: creating a feature of \"outlier scores\" using one of scikit-learn's [outlier detectors](https://scikit-learn.org/stable/modules/outlier_detection.html)."
   ]
  },
  {
   "cell_type": "markdown",
   "id": "e372e5bb",
   "metadata": {
    "papermill": {
     "duration": 0.011363,
     "end_time": "2023-03-20T13:13:50.487495",
     "exception": false,
     "start_time": "2023-03-20T13:13:50.476132",
     "status": "completed"
    },
    "tags": []
   },
   "source": [
    "## Target Encoding ##\n",
    "\n",
    "1. Split the data into folds, each fold having two splits of the dataset.\n",
    "2. Train the encoder on one split but transform the values of the other.\n",
    "3. Repeat for all the splits.\n"
   ]
  },
  {
   "cell_type": "code",
   "execution_count": 21,
   "id": "174cff3b",
   "metadata": {
    "_kg_hide-input": true,
    "execution": {
     "iopub.execute_input": "2023-03-20T13:13:50.513680Z",
     "iopub.status.busy": "2023-03-20T13:13:50.513208Z",
     "iopub.status.idle": "2023-03-20T13:13:50.525358Z",
     "shell.execute_reply": "2023-03-20T13:13:50.523954Z"
    },
    "papermill": {
     "duration": 0.02843,
     "end_time": "2023-03-20T13:13:50.527887",
     "exception": false,
     "start_time": "2023-03-20T13:13:50.499457",
     "status": "completed"
    },
    "tags": []
   },
   "outputs": [],
   "source": [
    "import category_encoders as ce\n",
    "\n",
    "class CrossFoldEncoder:\n",
    "    def __init__(self, encoder, **kwargs):\n",
    "        self.encoder_ = encoder\n",
    "        self.kwargs_ = kwargs  # keyword arguments for the encoder\n",
    "        self.cv_ = KFold(n_splits=5)\n",
    "\n",
    "    # Fit an encoder on one split and transform the feature on the\n",
    "    # other. Iterating over the splits in all folds gives a complete\n",
    "    # transformation. We also now have one trained encoder on each\n",
    "    # fold.\n",
    "    def fit_transform(self, X, y, cols):\n",
    "        self.fitted_encoders_ = []\n",
    "        self.cols_ = cols\n",
    "        X_encoded = []\n",
    "        for idx_encode, idx_train in self.cv_.split(X):\n",
    "            fitted_encoder = self.encoder_(cols=cols, **self.kwargs_)\n",
    "            fitted_encoder.fit(\n",
    "                X.iloc[idx_encode, :], y.iloc[idx_encode],\n",
    "            )\n",
    "            X_encoded.append(fitted_encoder.transform(X.iloc[idx_train, :])[cols])\n",
    "            self.fitted_encoders_.append(fitted_encoder)\n",
    "        X_encoded = pd.concat(X_encoded)\n",
    "        X_encoded.columns = [name + \"_encoded\" for name in X_encoded.columns]\n",
    "        return X_encoded\n",
    "\n",
    "    # To transform the test data, average the encodings learned from\n",
    "    # each fold.\n",
    "    def transform(self, X):\n",
    "        from functools import reduce\n",
    "\n",
    "        X_encoded_list = []\n",
    "        for fitted_encoder in self.fitted_encoders_:\n",
    "            X_encoded = fitted_encoder.transform(X)\n",
    "            X_encoded_list.append(X_encoded[self.cols_])\n",
    "        X_encoded = reduce(\n",
    "            lambda x, y: x.add(y, fill_value=0), X_encoded_list\n",
    "        ) / len(X_encoded_list)\n",
    "        X_encoded.columns = [name + \"_encoded\" for name in X_encoded.columns]\n",
    "        return X_encoded\n"
   ]
  },
  {
   "cell_type": "markdown",
   "id": "49580771",
   "metadata": {
    "papermill": {
     "duration": 0.011086,
     "end_time": "2023-03-20T13:13:50.550530",
     "exception": false,
     "start_time": "2023-03-20T13:13:50.539444",
     "status": "completed"
    },
    "tags": []
   },
   "source": [
    "## Create Final Feature Set ##"
   ]
  },
  {
   "cell_type": "code",
   "execution_count": 22,
   "id": "896355d0",
   "metadata": {
    "execution": {
     "iopub.execute_input": "2023-03-20T13:13:50.575774Z",
     "iopub.status.busy": "2023-03-20T13:13:50.575369Z",
     "iopub.status.idle": "2023-03-20T13:13:58.660368Z",
     "shell.execute_reply": "2023-03-20T13:13:58.659267Z"
    },
    "papermill": {
     "duration": 8.101608,
     "end_time": "2023-03-20T13:13:58.663634",
     "exception": false,
     "start_time": "2023-03-20T13:13:50.562026",
     "status": "completed"
    },
    "tags": []
   },
   "outputs": [
    {
     "data": {
      "text/plain": [
       "0.13718697525319967"
      ]
     },
     "execution_count": 22,
     "metadata": {},
     "output_type": "execute_result"
    }
   ],
   "source": [
    "def create_features(df, df_test=None):\n",
    "    X = df.copy()\n",
    "    y = X.pop(\"SalePrice\")\n",
    "    mi_scores = make_mi_scores(X, y)\n",
    "\n",
    "    # Combine splits if test data is given\n",
    "    #\n",
    "    # If we're creating features for test set predictions, we should\n",
    "    # use all the data we have available. After creating our features,\n",
    "    # we'll recreate the splits.\n",
    "    if df_test is not None:\n",
    "        X_test = df_test.copy()\n",
    "        X_test.pop(\"SalePrice\")\n",
    "        X = pd.concat([X, X_test])\n",
    "\n",
    "    # Mutual Information\n",
    "    X = drop_uninformative(X, mi_scores)\n",
    "\n",
    "    # Transformations\n",
    "    X = X.join(mathematical_transforms(X))\n",
    "    X = X.join(interactions(X))\n",
    "    X = X.join(counts(X))\n",
    "    # X = X.join(break_down(X))\n",
    "    X = X.join(group_transforms(X))\n",
    "\n",
    "    # Clustering\n",
    "    # X = X.join(cluster_labels(X, cluster_features, n_clusters=20))\n",
    "    # X = X.join(cluster_distance(X, cluster_features, n_clusters=20))\n",
    "\n",
    "    # PCA\n",
    "    X = X.join(pca_inspired(X))\n",
    "    # X = X.join(pca_components(X, pca_features))\n",
    "    # X = X.join(indicate_outliers(X))\n",
    "\n",
    "    X = label_encode(X)\n",
    "\n",
    "    # Reform splits\n",
    "    if df_test is not None:\n",
    "        X_test = X.loc[df_test.index, :]\n",
    "        X.drop(df_test.index, inplace=True)\n",
    "\n",
    "    # Target Encoder\n",
    "#     encoder = CrossFoldEncoder(CatBoostEncoder, a=1, cols=[\"MSSubClass\"])\n",
    "#     X = X.join(encoder.fit_transform(X, y))\n",
    "#     if df_test is not None:\n",
    "#         X_test = X_test.join(encoder.transform(X_test))\\\n",
    "\n",
    "#     encoder = CatBoostEncoder(cols=[\"MSSubClass\"], a=1)\n",
    "#     X = X.join(encoder.fit_transform(X, y))\n",
    "#     if df_test is not None:\n",
    "#         X_test = X_test.join(encoder.transform(X_test))\n",
    "\n",
    "    encoder = CrossFoldEncoder(MEstimateEncoder, m=10)\n",
    "    X = X.join(encoder.fit_transform(X, y, cols=[\"MSSubClass\"]))\n",
    "    if df_test is not None:\n",
    "        X_test = X_test.join(encoder.transform(X_test))\n",
    "\n",
    "    if df_test is not None:\n",
    "        return X, X_test\n",
    "    else:\n",
    "        return X\n",
    "\n",
    "\n",
    "df_train, df_test = load_data()\n",
    "X_train = create_features(df_train)\n",
    "y_train = df_train.loc[:, \"SalePrice\"]\n",
    "\n",
    "score_dataset(X_train, y_train)\n",
    "#0.13788078383293068"
   ]
  },
  {
   "cell_type": "markdown",
   "id": "e775eb72",
   "metadata": {
    "papermill": {
     "duration": 0.011349,
     "end_time": "2023-03-20T13:13:58.687467",
     "exception": false,
     "start_time": "2023-03-20T13:13:58.676118",
     "status": "completed"
    },
    "tags": []
   },
   "source": [
    "# Step 4 - Hyperparameter Tuning #"
   ]
  },
  {
   "cell_type": "code",
   "execution_count": 23,
   "id": "d0ff1682",
   "metadata": {
    "execution": {
     "iopub.execute_input": "2023-03-20T13:13:58.712692Z",
     "iopub.status.busy": "2023-03-20T13:13:58.712280Z",
     "iopub.status.idle": "2023-03-20T13:14:35.406868Z",
     "shell.execute_reply": "2023-03-20T13:14:35.405627Z"
    },
    "papermill": {
     "duration": 36.718682,
     "end_time": "2023-03-20T13:14:35.417782",
     "exception": false,
     "start_time": "2023-03-20T13:13:58.699100",
     "status": "completed"
    },
    "tags": []
   },
   "outputs": [
    {
     "data": {
      "text/plain": [
       "0.12346406488481923"
      ]
     },
     "execution_count": 23,
     "metadata": {},
     "output_type": "execute_result"
    }
   ],
   "source": [
    "X_train = create_features(df_train)\n",
    "y_train = df_train.loc[:, \"SalePrice\"]\n",
    "\n",
    "xgb_params = dict(\n",
    "    max_depth=6,           # maximum depth of each tree - try 2 to 10\n",
    "    learning_rate=0.01,    # effect of each tree - try 0.0001 to 0.1\n",
    "    n_estimators=1000,     # number of trees (that is, boosting rounds) - try 1000 to 8000\n",
    "    min_child_weight=1,    # minimum number of houses in a leaf - try 1 to 10\n",
    "    colsample_bytree=0.7,  # fraction of features (columns) per tree - try 0.2 to 1.0\n",
    "    subsample=0.7,         # fraction of instances (rows) per tree - try 0.2 to 1.0\n",
    "    reg_alpha=0.5,         # L1 regularization (like LASSO) - try 0.0 to 10.0\n",
    "    reg_lambda=1.0,        # L2 regularization (like Ridge) - try 0.0 to 10.0\n",
    "    num_parallel_tree=1,   # set > 1 for boosted random forests\n",
    ")\n",
    "\n",
    "xgb = XGBRegressor(**xgb_params)\n",
    "score_dataset(X_train, y_train, xgb)"
   ]
  },
  {
   "cell_type": "markdown",
   "id": "ba94052f",
   "metadata": {
    "papermill": {
     "duration": 0.012502,
     "end_time": "2023-03-20T13:14:35.442004",
     "exception": false,
     "start_time": "2023-03-20T13:14:35.429502",
     "status": "completed"
    },
    "tags": []
   },
   "source": [
    "To-do: try using one of scikit-learn's automatic [hyperparameter tuners](https://scikit-learn.org/stable/modules/grid_search.html). Or you could explore more advanced tuning libraries like [Optuna](https://optuna.readthedocs.io/en/stable/index.html) or [scikit-optimize](https://scikit-optimize.github.io/stable/).\n",
    "\n",
    "\n",
    "```\n",
    "import optuna\n",
    "\n",
    "def objective(trial):\n",
    "    xgb_params = dict(\n",
    "        max_depth=trial.suggest_int(\"max_depth\", 2, 10),\n",
    "        learning_rate=trial.suggest_float(\"learning_rate\", 1e-4, 1e-1, log=True),\n",
    "        n_estimators=trial.suggest_int(\"n_estimators\", 1000, 8000),\n",
    "        min_child_weight=trial.suggest_int(\"min_child_weight\", 1, 10),\n",
    "        colsample_bytree=trial.suggest_float(\"colsample_bytree\", 0.2, 1.0),\n",
    "        subsample=trial.suggest_float(\"subsample\", 0.2, 1.0),\n",
    "        reg_alpha=trial.suggest_float(\"reg_alpha\", 1e-4, 1e2, log=True),\n",
    "        reg_lambda=trial.suggest_float(\"reg_lambda\", 1e-4, 1e2, log=True),\n",
    "    )\n",
    "    xgb = XGBRegressor(**xgb_params)\n",
    "    return score_dataset(X_train, y_train, xgb)\n",
    "\n",
    "study = optuna.create_study(direction=\"minimize\")\n",
    "study.optimize(objective, n_trials=20)\n",
    "xgb_params = study.best_params\n",
    "```\n",
    "\n",
    " [Optuna's visualizations](https://optuna.readthedocs.io/en/stable/tutorial/10_key_features/005_visualization.html).\n",
    "\n",
    "# Step 5 - Train Model and Create Submissions #\n",
    "\n",
    "This cell will:\n",
    "- create  feature set from the original data\n",
    "- train XGBoost on the training data\n",
    "- use the trained model to make predictions from the test set\n",
    "- save the predictions to a CSV file"
   ]
  },
  {
   "cell_type": "code",
   "execution_count": 24,
   "id": "ad03dce2",
   "metadata": {
    "execution": {
     "iopub.execute_input": "2023-03-20T13:14:35.468324Z",
     "iopub.status.busy": "2023-03-20T13:14:35.467877Z",
     "iopub.status.idle": "2023-03-20T13:14:45.470731Z",
     "shell.execute_reply": "2023-03-20T13:14:45.469258Z"
    },
    "papermill": {
     "duration": 10.020216,
     "end_time": "2023-03-20T13:14:45.474826",
     "exception": false,
     "start_time": "2023-03-20T13:14:35.454610",
     "status": "completed"
    },
    "tags": []
   },
   "outputs": [
    {
     "name": "stdout",
     "output_type": "stream",
     "text": [
      "Your submission was successfully saved!\n"
     ]
    }
   ],
   "source": [
    "X_train, X_test = create_features(df_train, df_test)\n",
    "y_train = df_train.loc[:, \"SalePrice\"]\n",
    "\n",
    "xgb = XGBRegressor(**xgb_params)\n",
    "# XGB minimizes MSE, but competition loss is RMSLE\n",
    "# So, we need to log-transform y to train and exp-transform the predictions\n",
    "xgb.fit(X_train, np.log(y))\n",
    "predictions = np.exp(xgb.predict(X_test))\n",
    "\n",
    "output = pd.DataFrame({'Id': X_test.index, 'SalePrice': predictions})\n",
    "output.to_csv('my_submission_2.csv', index=False)\n",
    "print(\"Your submission was successfully saved!\")"
   ]
  },
  {
   "cell_type": "markdown",
   "id": "8ac2c569",
   "metadata": {
    "papermill": {
     "duration": 0.011352,
     "end_time": "2023-03-20T13:14:45.498746",
     "exception": false,
     "start_time": "2023-03-20T13:14:45.487394",
     "status": "completed"
    },
    "tags": []
   },
   "source": [
    "---\n",
    "\n",
    "\n",
    "\n",
    "\n",
    "*Have questions or comments? Visit the [course discussion forum](https://www.kaggle.com/learn/feature-engineering/discussion) to chat with other learners.*"
   ]
  }
 ],
 "metadata": {
  "kernelspec": {
   "display_name": "Python 3",
   "language": "python",
   "name": "python3"
  },
  "language_info": {
   "codemirror_mode": {
    "name": "ipython",
    "version": 3
   },
   "file_extension": ".py",
   "mimetype": "text/x-python",
   "name": "python",
   "nbconvert_exporter": "python",
   "pygments_lexer": "ipython3",
   "version": "3.7.12"
  },
  "papermill": {
   "default_parameters": {},
   "duration": 80.987787,
   "end_time": "2023-03-20T13:14:46.334115",
   "environment_variables": {},
   "exception": null,
   "input_path": "__notebook__.ipynb",
   "output_path": "__notebook__.ipynb",
   "parameters": {},
   "start_time": "2023-03-20T13:13:25.346328",
   "version": "2.4.0"
  }
 },
 "nbformat": 4,
 "nbformat_minor": 5
}
